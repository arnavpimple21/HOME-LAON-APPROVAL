{
 "cells": [
  {
   "cell_type": "code",
   "execution_count": 1,
   "id": "8bc7c979-76b7-4162-bd84-94caaadcfb29",
   "metadata": {},
   "outputs": [],
   "source": [
    "import pandas as pd\n",
    "import numpy as np\n",
    "from sklearn.model_selection import train_test_split\n",
    "from sklearn.linear_model import LinearRegression\n",
    "from sklearn.ensemble import RandomForestRegressor\n",
    "from sklearn.metrics import mean_squared_error, r2_score\n",
    "from sklearn.impute import SimpleImputer\n",
    "import matplotlib.pyplot as plt\n",
    "import seaborn as sns\n",
    "import pickle"
   ]
  },
  {
   "cell_type": "code",
   "execution_count": 2,
   "id": "b279e1c3-4932-4e95-9e4e-4416bd1fc376",
   "metadata": {},
   "outputs": [],
   "source": [
    "# Load the cleaned dataset\n",
    "final_data = pd.read_csv('Final_data_set.csv')"
   ]
  },
  {
   "cell_type": "code",
   "execution_count": 3,
   "id": "ea833868-7071-45d0-b839-1e327570e00b",
   "metadata": {},
   "outputs": [
    {
     "name": "stdout",
     "output_type": "stream",
     "text": [
      "outlier_fraction for the whole dataset:\n",
      "0.17523364485981308\n",
      "Fraud Cases : 24825\n",
      "Valid Cases : 141668\n"
     ]
    }
   ],
   "source": [
    "#Determine the number of fraud and valid transactions in the dataset\n",
    "\n",
    "Fraud = final_data[final_data['TARGET']==1]\n",
    "\n",
    "Valid = final_data[final_data['TARGET']==0]\n",
    "\n",
    "outlier_fraction = len(Fraud)/float(len(Valid))\n",
    "\n",
    "print('outlier_fraction for the whole dataset:')\n",
    "print(outlier_fraction)\n",
    "\n",
    "print(\"Fraud Cases : {}\".format(len(Fraud)))\n",
    "\n",
    "print(\"Valid Cases : {}\".format(len(Valid)))"
   ]
  },
  {
   "cell_type": "code",
   "execution_count": 4,
   "id": "5966b5e9-30db-466a-8262-198b853fd927",
   "metadata": {},
   "outputs": [
    {
     "name": "stdout",
     "output_type": "stream",
     "text": [
      "(246008, 20) (246008,)\n",
      "(61502, 20) (61502,)\n"
     ]
    }
   ],
   "source": [
    "from sklearn.model_selection import train_test_split\n",
    "\n",
    "#Create independent and Dependent Features\n",
    "columns = final_data.columns.tolist()\n",
    "# Filter the columns to remove data we do not want \n",
    "columns = [c for c in columns if c not in [\"TARGET\"]]\n",
    "# Store the variable we are predicting \n",
    "target = \"TARGET\"\n",
    "# Define a random state \n",
    "state = np.random.RandomState(42)\n",
    "X = final_data[columns]\n",
    "y = final_data[target]\n",
    "X_train, X_test, y_train, y_test = train_test_split(X, y, test_size=0.2)\n",
    "print(X_train.shape, y_train.shape)\n",
    "print(X_test.shape, y_test.shape)"
   ]
  },
  {
   "cell_type": "code",
   "execution_count": 5,
   "id": "50033040-e1a6-4548-a7be-03178850453b",
   "metadata": {},
   "outputs": [
    {
     "name": "stdout",
     "output_type": "stream",
     "text": [
      "        TARGET  AMT_CREDIT  AMT_INCOME_TOTAL  AMT_ANNUITY  AMT_GOODS_PRICE  \\\n",
      "0          1.0    406597.5          202500.0      24700.5         351000.0   \n",
      "1          0.0   1293502.5          270000.0      35698.5        1129500.0   \n",
      "2          0.0    135000.0           67500.0       6750.0         135000.0   \n",
      "3          0.0    312682.5          135000.0      29686.5         297000.0   \n",
      "4          0.0    513000.0          121500.0      21865.5         513000.0   \n",
      "...        ...         ...               ...          ...              ...   \n",
      "307505     NaN         NaN               NaN          NaN              NaN   \n",
      "307506     NaN         NaN               NaN          NaN              NaN   \n",
      "307507     NaN         NaN               NaN          NaN              NaN   \n",
      "307508     NaN         NaN               NaN          NaN              NaN   \n",
      "307509     1.0    370107.0          171000.0      20205.0         319500.0   \n",
      "\n",
      "        DAYS_BIRTH  DAYS_EMPLOYED  DAYS_REGISTRATION  CNT_CHILDREN  \\\n",
      "0          -9461.0         -637.0            -3648.0           0.0   \n",
      "1         -16765.0        -1188.0            -1186.0           0.0   \n",
      "2         -19046.0         -225.0            -4260.0           0.0   \n",
      "3         -19005.0        -3039.0            -9833.0           0.0   \n",
      "4         -19932.0        -3038.0            -4311.0           0.0   \n",
      "...            ...            ...                ...           ...   \n",
      "307505         NaN            NaN                NaN           NaN   \n",
      "307506         NaN            NaN                NaN           NaN   \n",
      "307507         NaN            NaN                NaN           NaN   \n",
      "307508         NaN            NaN                NaN           NaN   \n",
      "307509    -11961.0        -4786.0            -2562.0           0.0   \n",
      "\n",
      "            NAME_INCOME_TYPE  ...    NAME_FAMILY_STATUS YEARS_BUILD_AVG  \\\n",
      "0                    Working  ...  Single / not married          0.6192   \n",
      "1              State servant  ...               Married          0.7960   \n",
      "2                    Working  ...  Single / not married             NaN   \n",
      "3                    Working  ...        Civil marriage             NaN   \n",
      "4                    Working  ...  Single / not married             NaN   \n",
      "...                      ...  ...                   ...             ...   \n",
      "307505                   NaN  ...                   NaN             NaN   \n",
      "307506                   NaN  ...                   NaN             NaN   \n",
      "307507                   NaN  ...                   NaN             NaN   \n",
      "307508                   NaN  ...                   NaN             NaN   \n",
      "307509  Commercial associate  ...               Married             NaN   \n",
      "\n",
      "        AMT_REQ_CREDIT_BUREAU_YEAR  CODE_GENDER  NAME_HOUSING_TYPE  \\\n",
      "0                              1.0            M  House / apartment   \n",
      "1                              0.0            F  House / apartment   \n",
      "2                              0.0            M  House / apartment   \n",
      "3                              NaN            F  House / apartment   \n",
      "4                              0.0            M  House / apartment   \n",
      "...                            ...          ...                ...   \n",
      "307505                         NaN          NaN                NaN   \n",
      "307506                         NaN          NaN                NaN   \n",
      "307507                         NaN          NaN                NaN   \n",
      "307508                         NaN          NaN                NaN   \n",
      "307509                         0.0            F  House / apartment   \n",
      "\n",
      "       FLAG_OWN_REALTY FLAG_OWN_CAR EXT_SOURCE_1  APARTMENTS_AVG  \\\n",
      "0                    Y            N     0.083037          0.0247   \n",
      "1                    N            N     0.311267          0.0959   \n",
      "2                    Y            Y          NaN             NaN   \n",
      "3                    Y            N          NaN             NaN   \n",
      "4                    Y            N          NaN             NaN   \n",
      "...                ...          ...          ...             ...   \n",
      "307505             NaN          NaN          NaN             NaN   \n",
      "307506             NaN          NaN          NaN             NaN   \n",
      "307507             NaN          NaN          NaN             NaN   \n",
      "307508             NaN          NaN          NaN             NaN   \n",
      "307509               Y            N          NaN          0.0124   \n",
      "\n",
      "        YEARS_BEGINEXPLUATATION_AVG  \n",
      "0                            0.9722  \n",
      "1                            0.9851  \n",
      "2                               NaN  \n",
      "3                               NaN  \n",
      "4                               NaN  \n",
      "...                             ...  \n",
      "307505                          NaN  \n",
      "307506                          NaN  \n",
      "307507                          NaN  \n",
      "307508                          NaN  \n",
      "307509                       0.9771  \n",
      "\n",
      "[307510 rows x 21 columns]\n"
     ]
    }
   ],
   "source": [
    "print(final_data)"
   ]
  },
  {
   "cell_type": "code",
   "execution_count": 6,
   "id": "a0ded440-6309-4f2d-8a7d-54bf0d8544af",
   "metadata": {},
   "outputs": [
    {
     "data": {
      "text/plain": [
       "(307510, 21)"
      ]
     },
     "execution_count": 6,
     "metadata": {},
     "output_type": "execute_result"
    }
   ],
   "source": [
    "final_data.shape\n"
   ]
  },
  {
   "cell_type": "code",
   "execution_count": 7,
   "id": "4a109c03-6eca-4851-a27b-99769815ae68",
   "metadata": {},
   "outputs": [
    {
     "data": {
      "text/plain": [
       "['TARGET',\n",
       " 'AMT_CREDIT',\n",
       " 'AMT_INCOME_TOTAL',\n",
       " 'AMT_ANNUITY',\n",
       " 'AMT_GOODS_PRICE',\n",
       " 'DAYS_BIRTH',\n",
       " 'DAYS_EMPLOYED',\n",
       " 'DAYS_REGISTRATION',\n",
       " 'CNT_CHILDREN',\n",
       " 'NAME_INCOME_TYPE',\n",
       " 'NAME_EDUCATION_TYPE',\n",
       " 'NAME_FAMILY_STATUS',\n",
       " 'YEARS_BUILD_AVG',\n",
       " 'AMT_REQ_CREDIT_BUREAU_YEAR',\n",
       " 'CODE_GENDER',\n",
       " 'NAME_HOUSING_TYPE',\n",
       " 'FLAG_OWN_REALTY',\n",
       " 'FLAG_OWN_CAR',\n",
       " 'EXT_SOURCE_1',\n",
       " 'APARTMENTS_AVG',\n",
       " 'YEARS_BEGINEXPLUATATION_AVG']"
      ]
     },
     "execution_count": 7,
     "metadata": {},
     "output_type": "execute_result"
    }
   ],
   "source": [
    "final_data.columns.tolist()"
   ]
  },
  {
   "cell_type": "code",
   "execution_count": 8,
   "id": "183f0a60-653e-44d8-aa3e-ef38acf5e29a",
   "metadata": {},
   "outputs": [],
   "source": [
    "# Handle missing values for numeric and categorical data separately\n",
    "numeric_cols = final_data.select_dtypes(include=['number']).columns\n",
    "categorical_cols = final_data.select_dtypes(include=['object']).columns"
   ]
  },
  {
   "cell_type": "code",
   "execution_count": 9,
   "id": "d6ee5b27-cd38-4565-8e86-31d1cda5f4c0",
   "metadata": {},
   "outputs": [],
   "source": [
    "# Impute missing values\n",
    "numeric_imputer = SimpleImputer(strategy='mean')\n",
    "categorical_imputer = SimpleImputer(strategy='most_frequent')"
   ]
  },
  {
   "cell_type": "code",
   "execution_count": 10,
   "id": "768ce309-a0f9-40ad-a891-947a2abeba48",
   "metadata": {},
   "outputs": [],
   "source": [
    "\n",
    "final_data[numeric_cols] = numeric_imputer.fit_transform(final_data[numeric_cols])\n",
    "final_data[categorical_cols] = categorical_imputer.fit_transform(final_data[categorical_cols])"
   ]
  },
  {
   "cell_type": "code",
   "execution_count": 11,
   "id": "74305471-fb95-4ed7-9214-0a5902781acb",
   "metadata": {},
   "outputs": [],
   "source": [
    "# Prepare data for training\n",
    "X = final_data.drop('TARGET', axis=1)\n",
    "y = final_data['TARGET']"
   ]
  },
  {
   "cell_type": "code",
   "execution_count": 12,
   "id": "d8f1c839-4e2e-47be-99c5-e6c948a51ed9",
   "metadata": {},
   "outputs": [],
   "source": [
    "# Convert categorical variables to numeric values\n",
    "for column in X.select_dtypes(include=['object']).columns:\n",
    "    X[column] = X[column].astype('category').cat.codes"
   ]
  },
  {
   "cell_type": "code",
   "execution_count": 13,
   "id": "631f84cc-95dc-4d94-974a-cd36f8497b54",
   "metadata": {},
   "outputs": [],
   "source": [
    "\n",
    "# Split the data\n",
    "X_train, X_test, y_train, y_test = train_test_split(X, y, test_size=0.2, random_state=42)"
   ]
  },
  {
   "cell_type": "code",
   "execution_count": 14,
   "id": "1029b0e0-a745-46ab-a18c-99b53b0a8fd1",
   "metadata": {},
   "outputs": [],
   "source": [
    "# Train a Linear Regression model\n",
    "lin_reg = LinearRegression()\n",
    "lin_reg.fit(X_train, y_train)\n",
    "y_pred_lr = lin_reg.predict(X_test)"
   ]
  },
  {
   "cell_type": "code",
   "execution_count": 15,
   "id": "daa5c9b1-a9ce-48db-8e42-9e8aadc06615",
   "metadata": {},
   "outputs": [],
   "source": [
    "# Evaluate Linear Regression\n",
    "mse_lr = mean_squared_error(y_test, y_pred_lr)\n",
    "r2_lr = r2_score(y_test, y_pred_lr)"
   ]
  },
  {
   "cell_type": "code",
   "execution_count": 16,
   "id": "7c9f7ee8-5a93-4134-b575-4ebafc66bc80",
   "metadata": {},
   "outputs": [],
   "source": [
    "# Train a Random Forest model\n",
    "rf = RandomForestRegressor(random_state=42)\n",
    "rf.fit(X_train, y_train)\n",
    "y_pred_rf = rf.predict(X_test)"
   ]
  },
  {
   "cell_type": "code",
   "execution_count": 17,
   "id": "228b043c-9420-4522-a2fc-90853a99e225",
   "metadata": {},
   "outputs": [],
   "source": [
    "# Evaluate Random Forest\n",
    "mse_rf = mean_squared_error(y_test, y_pred_rf)\n",
    "r2_rf = r2_score(y_test, y_pred_rf)"
   ]
  },
  {
   "cell_type": "code",
   "execution_count": 18,
   "id": "1c9dabdd-efcc-4005-abbd-aa69f422c747",
   "metadata": {},
   "outputs": [],
   "source": [
    "# Determine the best model\n",
    "if r2_rf > r2_lr:\n",
    "    best_model = rf\n",
    "    best_model_name = 'Random Forest'\n",
    "else:\n",
    "    best_model = lin_reg\n",
    "    best_model_name = 'Linear Regression'"
   ]
  },
  {
   "cell_type": "code",
   "execution_count": 19,
   "id": "2b620e88-1fe7-4567-af0b-29447103848b",
   "metadata": {},
   "outputs": [],
   "source": [
    "# Save the best model to a pickle file\n",
    "with open('best_model.pkl', 'wb') as file:\n",
    "    pickle.dump(best_model, file)"
   ]
  }
 ],
 "metadata": {
  "kernelspec": {
   "display_name": "Python 3 (ipykernel)",
   "language": "python",
   "name": "python3"
  },
  "language_info": {
   "codemirror_mode": {
    "name": "ipython",
    "version": 3
   },
   "file_extension": ".py",
   "mimetype": "text/x-python",
   "name": "python",
   "nbconvert_exporter": "python",
   "pygments_lexer": "ipython3",
   "version": "3.12.5"
  }
 },
 "nbformat": 4,
 "nbformat_minor": 5
}
